{
 "cells": [
  {
   "cell_type": "code",
   "execution_count": 1,
   "metadata": {},
   "outputs": [
    {
     "name": "stdout",
     "output_type": "stream",
     "text": [
      "{'Onion': 50, 'Tomato': 25, 'Potato': 50}\n"
     ]
    }
   ],
   "source": [
    "#update the value of dictionary\n",
    "vegetables={\"Onion\":60,\"Tomato\":25,\"Potato\":50}\n",
    "vegetables[\"Onion\"]=50\n",
    "print(vegetables)"
   ]
  },
  {
   "cell_type": "code",
   "execution_count": 3,
   "metadata": {},
   "outputs": [
    {
     "data": {
      "text/plain": [
       "{4, 5}"
      ]
     },
     "execution_count": 3,
     "metadata": {},
     "output_type": "execute_result"
    }
   ],
   "source": [
    "#find common element in sets\n",
    "s1={1,2,3,4,5}\n",
    "s2={4,5,6,7,8}\n",
    "s1.intersection(s2)\n",
    "\n"
   ]
  },
  {
   "cell_type": "code",
   "execution_count": null,
   "metadata": {},
   "outputs": [],
   "source": [
    "n=input(\"Enter a number:\")\n",
    "rev_val=n[::-1]\n",
    "if n==rev_val:\n",
    "    print(\"number is palindrome\")\n",
    "else:\n",
    "    print(\"number is not palindrome\")"
   ]
  },
  {
   "cell_type": "code",
   "execution_count": 8,
   "metadata": {},
   "outputs": [
    {
     "name": "stdout",
     "output_type": "stream",
     "text": [
      "Enter a number:5\n",
      "1 \n",
      "2 2 \n",
      "3 3 3 \n",
      "4 4 4 4 \n",
      "5 5 5 5 5 \n"
     ]
    }
   ],
   "source": [
    "#print a patter\n",
    "n=int(input(\"Enter a number:\"))\n",
    "i=1\n",
    "while(i<=n):\n",
    "    j=1\n",
    "    while(j<=i):\n",
    "        print(i,end=\" \")\n",
    "        j=j+1\n",
    "    print()     \n",
    "    i=i+1"
   ]
  },
  {
   "cell_type": "code",
   "execution_count": 9,
   "metadata": {},
   "outputs": [
    {
     "name": "stdout",
     "output_type": "stream",
     "text": [
      "Enter a number:5\n",
      "# \n",
      "# # \n",
      "# # # \n",
      "# # # # \n",
      "# # # # # \n"
     ]
    }
   ],
   "source": [
    "#print a patter for #\n",
    "n=int(input(\"Enter a number:\"))\n",
    "i=1\n",
    "while(i<=n):\n",
    "    j=1\n",
    "    while(j<=i):\n",
    "        print(\"#\",end=\" \")\n",
    "        j=j+1\n",
    "    print()     \n",
    "    i=i+1"
   ]
  },
  {
   "cell_type": "code",
   "execution_count": 10,
   "metadata": {},
   "outputs": [
    {
     "name": "stdout",
     "output_type": "stream",
     "text": [
      "Enter a number:5\n",
      "1 \n",
      "1 2 \n",
      "1 2 3 \n",
      "1 2 3 4 \n",
      "1 2 3 4 5 \n"
     ]
    }
   ],
   "source": [
    "#print a patter for \n",
    "n=int(input(\"Enter a number:\"))\n",
    "i=1\n",
    "while(i<=n):\n",
    "    j=1\n",
    "    while(j<=i):\n",
    "        print(j,end=\" \")\n",
    "        j=j+1\n",
    "    print()     \n",
    "    i=i+1"
   ]
  },
  {
   "cell_type": "code",
   "execution_count": null,
   "metadata": {},
   "outputs": [],
   "source": [
    "#print the pascal triangle petter\n"
   ]
  },
  {
   "cell_type": "code",
   "execution_count": null,
   "metadata": {},
   "outputs": [],
   "source": [
    "#print ABC patter"
   ]
  },
  {
   "cell_type": "code",
   "execution_count": 4,
   "metadata": {},
   "outputs": [
    {
     "name": "stdout",
     "output_type": "stream",
     "text": [
      "original price: Onion 60\n",
      "increment price: Onion 70\n",
      "original price: Tomato 25\n",
      "increment price: Tomato 35\n",
      "original price: Potato 50\n",
      "increment price: Potato 60\n"
     ]
    }
   ],
   "source": [
    "#increment values of all keys in dictionary \n",
    "vegetables={\"Onion\":60,\"Tomato\":25,\"Potato\":50}\n",
    "for k,v in vegetables.items():\n",
    "    print(\"original price:\",k,v)\n",
    "    v=v+10\n",
    "    print(\"increment price:\",k,v)"
   ]
  },
  {
   "cell_type": "code",
   "execution_count": 6,
   "metadata": {},
   "outputs": [
    {
     "name": "stdout",
     "output_type": "stream",
     "text": [
      "5\n"
     ]
    }
   ],
   "source": [
    "#print the random number using random library\n",
    "import random as rd\n",
    "num=rd.randint(1,10)\n",
    "print(num)"
   ]
  },
  {
   "cell_type": "code",
   "execution_count": 10,
   "metadata": {},
   "outputs": [
    {
     "name": "stdout",
     "output_type": "stream",
     "text": [
      "args value ('Hello',)\n",
      "key value Ram sita\n",
      "key value Krishna Radha\n",
      "key value Shiv Parwati\n"
     ]
    }
   ],
   "source": [
    "#denote the use of args and kwargs in python\n",
    "def argument(*args,**kwargs):\n",
    "    print(\"args value\",args)\n",
    "    for k,v in kwargs.items():\n",
    "        print(\"key value\",k,v)\n",
    "argument(\"Hello\",Ram=\"sita\",Krishna=\"Radha\",Shiv=\"Parwati\")        "
   ]
  },
  {
   "cell_type": "code",
   "execution_count": 15,
   "metadata": {},
   "outputs": [
    {
     "name": "stdout",
     "output_type": "stream",
     "text": [
      "2567749001728\n",
      "2567748717184\n",
      "[1, 0, 3, 4, 5]\n",
      "[1, 2, 3, 4, 5]\n"
     ]
    }
   ],
   "source": [
    "#examples for shallow copy in python\n",
    "import copy\n",
    "x1=[1,2,3,4,5]\n",
    "x2=copy.copy(x1)\n",
    "print(id(x1))\n",
    "print(id(x2))\n",
    "x2[1]=0\n",
    "print(x2)\n",
    "print(x1)"
   ]
  },
  {
   "cell_type": "code",
   "execution_count": 16,
   "metadata": {},
   "outputs": [
    {
     "name": "stdout",
     "output_type": "stream",
     "text": [
      "[0, 2, 3, 4, 5]\n"
     ]
    }
   ],
   "source": [
    "x1=[1,2,3,4,5]\n",
    "x2=x1\n",
    "x2[0]=0\n",
    "print(x1)"
   ]
  },
  {
   "cell_type": "code",
   "execution_count": 19,
   "metadata": {},
   "outputs": [
    {
     "name": "stdout",
     "output_type": "stream",
     "text": [
      "[9, 8, 7]\n"
     ]
    }
   ],
   "source": [
    "a=[1,2,3,4,5,6,7,8,9]\n",
    "x=a[-1:-4:-1]\n",
    "print(x)"
   ]
  },
  {
   "cell_type": "code",
   "execution_count": 21,
   "metadata": {},
   "outputs": [
    {
     "name": "stdout",
     "output_type": "stream",
     "text": [
      "ASCII valueais 97\n"
     ]
    }
   ],
   "source": [
    "#printing ASCII value of given character\n",
    "val=\"a\"\n",
    "print(\"ASCII value\"+val+\"is\",ord(val))"
   ]
  },
  {
   "cell_type": "code",
   "execution_count": 26,
   "metadata": {},
   "outputs": [
    {
     "name": "stdout",
     "output_type": "stream",
     "text": [
      "['i', 'Archana', 'Rauniyar', 'am', 'Hello']\n"
     ]
    }
   ],
   "source": [
    "#easiset way to suffle list\n",
    "from random import shuffle \n",
    "value=[\"Hello\",\"i\",\"am\",\"Archana\",\"Rauniyar\"]\n",
    "shuffle(value)\n",
    "print(value)\n"
   ]
  },
  {
   "cell_type": "code",
   "execution_count": 27,
   "metadata": {},
   "outputs": [
    {
     "name": "stdout",
     "output_type": "stream",
     "text": [
      "3\n"
     ]
    }
   ],
   "source": [
    "#florr division in python\n",
    "x=7//2\n",
    "print(x)"
   ]
  },
  {
   "cell_type": "code",
   "execution_count": 28,
   "metadata": {},
   "outputs": [
    {
     "data": {
      "text/plain": [
       "'dlroW olleH'"
      ]
     },
     "execution_count": 28,
     "metadata": {},
     "output_type": "execute_result"
    }
   ],
   "source": [
    "#out of piece of code\n",
    "\"Hello World\"[::-1]"
   ]
  },
  {
   "cell_type": "code",
   "execution_count": 29,
   "metadata": {},
   "outputs": [
    {
     "data": {
      "text/plain": [
       "[1, 2, 3, 4, 1, 2, 3, 4]"
      ]
     },
     "execution_count": 29,
     "metadata": {},
     "output_type": "execute_result"
    }
   ],
   "source": [
    "#operation of list\n",
    "list=[1,2,3,4]\n",
    "list*2"
   ]
  },
  {
   "cell_type": "code",
   "execution_count": 31,
   "metadata": {},
   "outputs": [
    {
     "name": "stdout",
     "output_type": "stream",
     "text": [
      "Enter a number:153\n",
      "it is not armstrong\n"
     ]
    }
   ],
   "source": [
    "#check when the given number is amrstrong or not to doooooo\n",
    "val=int(input(\"Enter a number:\"))\n",
    "sum=0\n",
    "while(val>0):\n",
    "    digit=val%10\n",
    "    sum +=digit**3\n",
    "    val //=10\n",
    "if val==sum:\n",
    "    print(\"it is armstrong\")\n",
    "else:\n",
    "     print(\"it is not armstrong\")\n",
    "    "
   ]
  },
  {
   "cell_type": "code",
   "execution_count": 5,
   "metadata": {},
   "outputs": [
    {
     "name": "stdout",
     "output_type": "stream",
     "text": [
      "Enter a number:28\n",
      "28\n",
      "28\n",
      "28 is perferct number\n"
     ]
    }
   ],
   "source": [
    "#logic to print perferct number in python\n",
    "val=int(input(\"Enter a number:\"))\n",
    "sum=0\n",
    "i=1\n",
    "while(i<val):\n",
    "    if val%i==0:\n",
    "        sum+=i\n",
    "    i += 1 \n",
    "if val==sum:\n",
    "    print(val,\"is perferct number\")\n",
    "else:\n",
    "     print(val,\"is not perferct number\")"
   ]
  },
  {
   "cell_type": "code",
   "execution_count": 6,
   "metadata": {},
   "outputs": [
    {
     "name": "stdout",
     "output_type": "stream",
     "text": [
      "Enter a number:145\n",
      "The number is a strong number\n"
     ]
    }
   ],
   "source": [
    "#logic to print strong nuber in python\n",
    "sum1=0\n",
    "num=int(input(\"Enter a number:\"))\n",
    "temp=num\n",
    "while(num):\n",
    "    i=1\n",
    "    f=1\n",
    "    r=num%10\n",
    "    while(i<=r):\n",
    "        f=f*i\n",
    "        i=i+1\n",
    "    sum1=sum1+f\n",
    "    num=num//10\n",
    "if(sum1==temp):\n",
    "    print(\"The number is a strong number\")\n",
    "else:\n",
    "    print(\"The number is not a strong number\")\n",
    "    \n"
   ]
  },
  {
   "cell_type": "code",
   "execution_count": 14,
   "metadata": {},
   "outputs": [
    {
     "name": "stdout",
     "output_type": "stream",
     "text": [
      "[3, 4, 5, 7, 9]\n",
      "sceond largets number 7\n"
     ]
    }
   ],
   "source": [
    "#find out largest number in list\n",
    "list1 =[4,7,9,3,5]\n",
    "list1.sort()\n",
    "print(list1)\n",
    "print(\"sceond largets number\",list1[-2])"
   ]
  },
  {
   "cell_type": "code",
   "execution_count": 15,
   "metadata": {},
   "outputs": [
    {
     "name": "stdout",
     "output_type": "stream",
     "text": [
      "[5, 7, 9, 3, 4]\n"
     ]
    }
   ],
   "source": [
    "#quickly swap the first and last element in list\n",
    "list1=[4,7,9,3,5]\n",
    "last_ele=list1[-1]\n",
    "first_ele=list1[0]\n",
    "list1[0]=last_ele\n",
    "list1[-1]=first_ele\n",
    "print(list1)"
   ]
  },
  {
   "cell_type": "code",
   "execution_count": 19,
   "metadata": {},
   "outputs": [
    {
     "name": "stdout",
     "output_type": "stream",
     "text": [
      "3\n"
     ]
    }
   ],
   "source": [
    "#count number of vowels present in string\n",
    "word=\"helloi\"\n",
    "vowels=[\"a\",\"e\",\"i\",\"o\",\"u\"]\n",
    "sum=0\n",
    "for i in word:\n",
    "    if i in vowels:\n",
    "         sum+=1\n",
    "print(sum)    \n",
    "    "
   ]
  },
  {
   "cell_type": "code",
   "execution_count": null,
   "metadata": {},
   "outputs": [],
   "source": [
    "#break list into n chunks \n"
   ]
  },
  {
   "cell_type": "code",
   "execution_count": 22,
   "metadata": {},
   "outputs": [
    {
     "name": "stdout",
     "output_type": "stream",
     "text": [
      "Enter a number:4\n",
      "Enter a number:2\n",
      "The output of division 2.0\n",
      "everthing is correct\n"
     ]
    }
   ],
   "source": [
    "#denote the working of exception handling\n",
    "try:\n",
    "    x=int(input(\"Enter a number:\"))\n",
    "    y=int(input(\"Enter a number:\"))\n",
    "    z=x/y\n",
    "    print(\"The output of division\",z)\n",
    "except Exception as e:\n",
    "    print(\"some thing went wrong\",e)\n",
    "else:\n",
    "    print(\"everthing is correct\")\n",
    "    "
   ]
  },
  {
   "cell_type": "code",
   "execution_count": 23,
   "metadata": {},
   "outputs": [
    {
     "name": "stdout",
     "output_type": "stream",
     "text": [
      "Enter a number:4\n",
      "Enter a number:2\n",
      "The output of division 2.0\n",
      "everthing is correct\n"
     ]
    }
   ],
   "source": [
    "#how does finally block works in python\n",
    "try:\n",
    "    x=int(input(\"Enter a number:\"))\n",
    "    y=int(input(\"Enter a number:\"))\n",
    "    z=x/y\n",
    "    print(\"The output of division\",z)\n",
    "except Exception as e:\n",
    "    print(\"some thing went wrong\",e)\n",
    "finally:\n",
    "    print(\"everthing is correct\")"
   ]
  },
  {
   "cell_type": "code",
   "execution_count": 3,
   "metadata": {},
   "outputs": [
    {
     "name": "stdout",
     "output_type": "stream",
     "text": [
      "ram age is 16\n",
      "<__main__.human object at 0x00000213C73C4460>\n"
     ]
    }
   ],
   "source": [
    "#create class human with name and age attributes\n",
    "class human:\n",
    "    def __init__(self,name,age):\n",
    "        self.name=name\n",
    "        self.age=age\n",
    "        print(name,\"age is\",age)\n",
    "person1=human(\"ram\",16)\n",
    "print(person1)\n",
    "    "
   ]
  },
  {
   "cell_type": "code",
   "execution_count": 6,
   "metadata": {},
   "outputs": [
    {
     "name": "stdout",
     "output_type": "stream",
     "text": [
      "Enter ur name Archana Rauniyar\n",
      "enter ur age22\n"
     ]
    }
   ],
   "source": [
    "class human:\n",
    "    def get_name_age(self):\n",
    "        self.name=input(\"Enter ur name \")\n",
    "        self.age=input(\"enter ur age\")\n",
    "    def put_name_age(self):\n",
    "        print(\"Your name is\",self.name)\n",
    "        print(\"Your age is\",self.age)\n",
    "person1=human()\n",
    "person1.get_name_age()"
   ]
  },
  {
   "cell_type": "code",
   "execution_count": 7,
   "metadata": {},
   "outputs": [
    {
     "name": "stdout",
     "output_type": "stream",
     "text": [
      "Your name is Archana Rauniyar\n",
      "Your age is 22\n"
     ]
    }
   ],
   "source": [
    "person1.put_name_age()"
   ]
  },
  {
   "cell_type": "code",
   "execution_count": 10,
   "metadata": {},
   "outputs": [
    {
     "name": "stdout",
     "output_type": "stream",
     "text": [
      "Student name is  Ram\n",
      "Student age is  16\n",
      "Student branch is  IT\n"
     ]
    }
   ],
   "source": [
    "class student:\n",
    "    def __init__(self,name,age,branch):\n",
    "        self.name=name\n",
    "        self.age=age\n",
    "        self.branch=branch\n",
    "    def print_student(self):\n",
    "        print(\"Student name is \",self.name)\n",
    "        print(\"Student age is \",self.age)\n",
    "        print(\"Student branch is \",self.branch)\n",
    "person=student(\"Ram\",16,\"IT\")\n",
    "person.print_student()\n",
    "    "
   ]
  },
  {
   "cell_type": "code",
   "execution_count": 27,
   "metadata": {},
   "outputs": [
    {
     "name": "stdout",
     "output_type": "stream",
     "text": [
      "Ram is teacher name.his age is: 22 His salay is 200000 he teach Science subject\n"
     ]
    }
   ],
   "source": [
    "#inheritance concept in python\n",
    "\n",
    "class school:\n",
    "    def __init__(self,name,age,branch):\n",
    "        self.name=name\n",
    "        self.age=age\n",
    "        self.branch=branch\n",
    "    def print_student(self):\n",
    "        print(\"Student name is \",self.name)\n",
    "        print(\"Student age is \",self.age)\n",
    "        print(\"Student branch is \",self.branch)\n",
    "class teacher(school):\n",
    "    def __init__(self,name,age,branch,subject,salary):\n",
    "        super().__init__(name,age,branch)\n",
    "        self.subject=subject\n",
    "        self.salary=salary\n",
    "       \n",
    "    def teacher_info(self):\n",
    "        print(self.name,\"is teacher name.his age is:\",self.age,\"His salay is\",self.salary,\"he teach\",self.subject,\"subject\")\n",
    "person1=teacher(\"Ram\",22,\"Teacher\",\"Science\",200000)\n",
    "person1.teacher_info()\n",
    "\n",
    "\n",
    "        \n",
    "    \n",
    "    "
   ]
  },
  {
   "cell_type": "code",
   "execution_count": 36,
   "metadata": {},
   "outputs": [
    {
     "name": "stdout",
     "output_type": "stream",
     "text": [
      "creating 1-D array: [1 2 3 4 5]\n",
      "shuffle array values: [3 5 1 2 4]\n",
      "sorting array values: [1 2 3 4 5]\n"
     ]
    }
   ],
   "source": [
    "#create 1-D or 2-D numpy array\n",
    "import numpy as np\n",
    "from random import shuffle \n",
    "list=[1,2,3,4,5]\n",
    "a=np.array(list)\n",
    "print(\"creating 1-D array:\",a)\n",
    "shuffle(a)\n",
    "print(\"shuffle array values:\",a)\n",
    "a.sort()\n",
    "print(\"sorting array values:\",a)"
   ]
  },
  {
   "cell_type": "code",
   "execution_count": 37,
   "metadata": {},
   "outputs": [
    {
     "name": "stdout",
     "output_type": "stream",
     "text": [
      "[[1 2 3]\n",
      " [4 5 6]]\n"
     ]
    }
   ],
   "source": [
    "#creating 2-D list\n",
    "import numpy as np\n",
    "list=[[1,2,3,],\n",
    "     [4,5,6]]\n",
    "a=np.array(list)\n",
    "print(a)\n"
   ]
  },
  {
   "cell_type": "code",
   "execution_count": 40,
   "metadata": {},
   "outputs": [
    {
     "name": "stdout",
     "output_type": "stream",
     "text": [
      "[[1 2 3]\n",
      " [4 5 6]]\n"
     ]
    }
   ],
   "source": [
    "#creating 2-D list\n",
    "import numpy as np\n",
    "a=np.array([[1,2,3],\n",
    "     [4,5,6]])\n",
    "print(a)"
   ]
  },
  {
   "cell_type": "code",
   "execution_count": 43,
   "metadata": {},
   "outputs": [
    {
     "name": "stdout",
     "output_type": "stream",
     "text": [
      "[[0. 0. 0. 0. 0.]\n",
      " [0. 0. 0. 0. 0.]\n",
      " [0. 0. 0. 0. 0.]\n",
      " [0. 0. 0. 0. 0.]\n",
      " [0. 0. 0. 0. 0.]]\n"
     ]
    }
   ],
   "source": [
    "#initialize 585 array comparisiong of all zeros\n",
    "import numpy as np\n",
    "a=np.zeros((5,5))\n",
    "print(a)"
   ]
  },
  {
   "cell_type": "code",
   "execution_count": 46,
   "metadata": {},
   "outputs": [
    {
     "name": "stdout",
     "output_type": "stream",
     "text": [
      "[2 4 6]\n"
     ]
    }
   ],
   "source": [
    "#sum of 2 array yby row\n",
    "import numpy as np\n",
    "a=np.array([1,2,3])\n",
    "b=np.array([1,2,3])\n",
    "arr_sum=np.sum((a,b),axis=0)\n",
    "print(arr_sum)"
   ]
  },
  {
   "cell_type": "code",
   "execution_count": 47,
   "metadata": {},
   "outputs": [
    {
     "name": "stdout",
     "output_type": "stream",
     "text": [
      "[6 6]\n"
     ]
    }
   ],
   "source": [
    "#sum of 2 array by column\n",
    "import numpy as np\n",
    "a=np.array([1,2,3])\n",
    "b=np.array([1,2,3])\n",
    "arr_sum=np.sum((a,b),axis=1)\n",
    "print(arr_sum)"
   ]
  },
  {
   "cell_type": "code",
   "execution_count": 49,
   "metadata": {},
   "outputs": [
    {
     "name": "stdout",
     "output_type": "stream",
     "text": [
      "9\n"
     ]
    }
   ],
   "source": [
    "#getting n larget number\n",
    "list=[3,9,8,7,5,5,8]\n",
    "list.sort()\n",
    "print(list[-1])"
   ]
  },
  {
   "cell_type": "code",
   "execution_count": 55,
   "metadata": {},
   "outputs": [
    {
     "name": "stdout",
     "output_type": "stream",
     "text": [
      "[3, 9, 8, 7, 5]\n"
     ]
    }
   ],
   "source": [
    "#removing repeated number from list\n",
    "list=[3,9,8,7,5,5,8]\n",
    "new_list=[]\n",
    "for i in list:\n",
    "    if i not in new_list:\n",
    "        new_list.append(i)\n",
    "print(new_list)    \n"
   ]
  },
  {
   "cell_type": "code",
   "execution_count": 57,
   "metadata": {},
   "outputs": [
    {
     "name": "stdout",
     "output_type": "stream",
     "text": [
      "   0\n",
      "0  1\n",
      "1  2\n",
      "2  3\n",
      "3  5\n",
      "4  6\n",
      "5  7\n"
     ]
    }
   ],
   "source": [
    "#convert dataframe from list\n",
    "import pandas as pd\n",
    "list=[1,2,3,5,6,7]\n",
    "data=pd.DataFrame(list)\n",
    "print(data)"
   ]
  },
  {
   "cell_type": "code",
   "execution_count": 66,
   "metadata": {},
   "outputs": [
    {
     "name": "stdout",
     "output_type": "stream",
     "text": [
      "  Baby  Young Teenage  Adult\n",
      "0  Ram  Shyam    Sita  Geeta\n"
     ]
    }
   ],
   "source": [
    "#convert dataframe from dictionary\n",
    "import pandas as pd\n",
    "dic={\"Baby\":[\"Ram\"],\"Young\":[\"Shyam\"],\"Teenage\":[\"Sita\"],\"Adult\":[\"Geeta\"]}\n",
    "val=pd.DataFrame(dic)\n",
    "print(val)"
   ]
  },
  {
   "cell_type": "code",
   "execution_count": null,
   "metadata": {},
   "outputs": [],
   "source": [
    "#open and read a file in python\n",
    "file1=open('file.txt','r')\n",
    "file1.read()\n"
   ]
  },
  {
   "cell_type": "code",
   "execution_count": 70,
   "metadata": {},
   "outputs": [
    {
     "data": {
      "text/plain": [
       "12"
      ]
     },
     "execution_count": 70,
     "metadata": {},
     "output_type": "execute_result"
    }
   ],
   "source": [
    "#create a lamda function to add 10 to a given number\n",
    "val = lambda a: a+10\n",
    "val(2)    "
   ]
  },
  {
   "cell_type": "code",
   "execution_count": 79,
   "metadata": {},
   "outputs": [
    {
     "name": "stdout",
     "output_type": "stream",
     "text": [
      "21\n"
     ]
    }
   ],
   "source": [
    "#create a lamda function to sum a list values\n",
    "from functools import reduce\n",
    "list1=[1,2,3,4,5,6]\n",
    "sum_num=reduce(lambda x,y:x+y,list1)\n",
    "print(sum_num)"
   ]
  },
  {
   "cell_type": "code",
   "execution_count": 83,
   "metadata": {},
   "outputs": [
    {
     "name": "stdout",
     "output_type": "stream",
     "text": [
      "13\n"
     ]
    }
   ],
   "source": [
    "#program to get the length of the string without using the len() function\n",
    "val=\"ophthalmology\"\n",
    "sum=0\n",
    "j=0\n",
    "for i in val:\n",
    "    sum+=1\n",
    "print(sum)    \n",
    "    "
   ]
  },
  {
   "cell_type": "code",
   "execution_count": 86,
   "metadata": {},
   "outputs": [
    {
     "name": "stdout",
     "output_type": "stream",
     "text": [
      "[0 1 2 3 4 5 6 7 8 9]\n",
      "[ 0 -1  2 -1  4 -1  6 -1  8 -1]\n"
     ]
    }
   ],
   "source": [
    "#replace all the odd number in this numpy array to -1\n",
    "import numpy as np\n",
    "arr=np.arange(0,10)\n",
    "print(arr)\n",
    "arr[arr%2==1]=-1\n",
    "print(arr)"
   ]
  },
  {
   "cell_type": "code",
   "execution_count": 94,
   "metadata": {},
   "outputs": [
    {
     "data": {
      "text/plain": [
       "array([5])"
      ]
     },
     "execution_count": 94,
     "metadata": {},
     "output_type": "execute_result"
    }
   ],
   "source": [
    "#select the common elemnt in array\n",
    "import numpy as np\n",
    "l1=np.array([1,2,3,4,5])\n",
    "l2=np.array([5,6,7,8,9])\n",
    "np.intersect1d(l1,l2)\n"
   ]
  },
  {
   "cell_type": "code",
   "execution_count": 96,
   "metadata": {},
   "outputs": [
    {
     "data": {
      "text/plain": [
       "0    Mary\n",
       "1     Had\n",
       "2       A\n",
       "3    Home\n",
       "dtype: object"
      ]
     },
     "execution_count": 96,
     "metadata": {},
     "output_type": "execute_result"
    }
   ],
   "source": [
    "#\n",
    "import pandas as pd\n",
    "ser=pd.Series(['mary','had','a','home'])\n",
    "ser.map(lambda x:x.title())"
   ]
  },
  {
   "cell_type": "code",
   "execution_count": 97,
   "metadata": {},
   "outputs": [
    {
     "data": {
      "text/plain": [
       "0    4\n",
       "1    3\n",
       "2    1\n",
       "3    4\n",
       "dtype: int64"
      ]
     },
     "execution_count": 97,
     "metadata": {},
     "output_type": "execute_result"
    }
   ],
   "source": [
    "#calculate the number of character in each word in a series\n",
    "import pandas as pd\n",
    "ser=pd.Series(['mary','had','a','home'])\n",
    "ser.map(lambda x:len(x))"
   ]
  },
  {
   "cell_type": "code",
   "execution_count": null,
   "metadata": {},
   "outputs": [],
   "source": []
  }
 ],
 "metadata": {
  "kernelspec": {
   "display_name": "Python 3",
   "language": "python",
   "name": "python3"
  },
  "language_info": {
   "codemirror_mode": {
    "name": "ipython",
    "version": 3
   },
   "file_extension": ".py",
   "mimetype": "text/x-python",
   "name": "python",
   "nbconvert_exporter": "python",
   "pygments_lexer": "ipython3",
   "version": "3.8.5"
  }
 },
 "nbformat": 4,
 "nbformat_minor": 4
}
