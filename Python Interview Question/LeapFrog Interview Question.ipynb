{
 "cells": [
  {
   "cell_type": "code",
   "execution_count": 12,
   "metadata": {},
   "outputs": [
    {
     "name": "stdout",
     "output_type": "stream",
     "text": [
      "Enter a sentence: Hello World\n",
      "H\n",
      "W\n",
      "HelloWorld\n",
      "in for loop\n",
      "HELLOwORLD\n"
     ]
    }
   ],
   "source": [
    "def convert_into_uppercase(word):\n",
    "    for s in word.split():\n",
    "        print(s[0])\n",
    "    val = word.replace(' ','')\n",
    "    print(val)\n",
    "    cap = val.upper()\n",
    "    if s[0] in cap:\n",
    "        print(\"in for loop\")\n",
    "        cap=cap.replace(s[0],s[0].lower())\n",
    "    print(cap)\n",
    "\n",
    "word =input(\"Enter a sentence: \")\n",
    "convert_into_uppercase(word)"
   ]
  },
  {
   "cell_type": "code",
   "execution_count": null,
   "metadata": {},
   "outputs": [],
   "source": [
    "val = input(\"Enter a sentence :\")\n",
    "val = val.split()\n",
    "max_word = max(val,key=len)\n",
    "print(max_word, len(max_word))\n",
    "first_elem=max_word[0]\n",
    "print(first_elem)\n",
    "\n",
    "\n",
    "        \n",
    "        \n",
    "            \n"
   ]
  },
  {
   "cell_type": "code",
   "execution_count": 6,
   "metadata": {},
   "outputs": [
    {
     "name": "stdout",
     "output_type": "stream",
     "text": [
      "Hellowworld\n"
     ]
    }
   ],
   "source": [
    "import re\n",
    "def convert_into_uppercase(a):\n",
    "    return a.group(1) + a.group(2).upper()\n",
    "s = \"HELLOWORLD\"\n",
    "result = re.sub(\"(^|\\s)(\\S)\", convert_into_uppercase, s)\n",
    "print(result)"
   ]
  },
  {
   "cell_type": "code",
   "execution_count": 4,
   "metadata": {},
   "outputs": [
    {
     "data": {
      "text/plain": [
       "['P', 'i', 'g']"
      ]
     },
     "execution_count": 4,
     "metadata": {},
     "output_type": "execute_result"
    }
   ],
   "source": [
    "[ s[0] for s in 'Piethon is good'.split() ]"
   ]
  },
  {
   "cell_type": "code",
   "execution_count": 18,
   "metadata": {},
   "outputs": [
    {
     "name": "stdout",
     "output_type": "stream",
     "text": [
      "Enter a string: hulm\n",
      "hlm\n"
     ]
    }
   ],
   "source": [
    "def clear_word(word):\n",
    "    val=\"dust\"\n",
    "    for i in val:\n",
    "        if i in word:\n",
    "            word=word.replace(i, '')\n",
    "    print(word)          \n",
    "word =input(\"Enter a string: \")\n",
    "clear_word(word)    \n",
    "    "
   ]
  },
  {
   "cell_type": "code",
   "execution_count": 21,
   "metadata": {},
   "outputs": [
    {
     "name": "stdout",
     "output_type": "stream",
     "text": [
      "hulm\n",
      "hlm\n"
     ]
    }
   ],
   "source": [
    "def logic(my_input):\n",
    "    val=\"dust\"\n",
    "    for i in val:\n",
    "        if i in my_input:\n",
    "            my_input=my_input.replace(i, '')\n",
    "    return my_input\n",
    "\n",
    "\n",
    "# Do not edit below\n",
    "\n",
    "# Get the input\n",
    "my_input = input()\n",
    "\n",
    "# Print output returned from the logic function\n",
    "print(logic(my_input))\n"
   ]
  },
  {
   "cell_type": "code",
   "execution_count": null,
   "metadata": {},
   "outputs": [],
   "source": [
    "# The function is expected to return a string.\n",
    "# The function accepts string as parameter.\n",
    "\n",
    "def logic(my_input):\n",
    "    choose=input(\"Enter e for encoding and d for decoding: \")\n",
    "    if choose ='e':\n",
    "        for character in my_input:\n",
    "            if character.isdigit():\n",
    "                new_word=my_input.replace(character, '')\n",
    "        print(new_word)  \n",
    "        \n",
    "\n",
    "        \n",
    "    else if choose ='d'\n",
    "    \n",
    "    \n",
    "    else:\n",
    "        print(\"wrong choice \")\n",
    "\n",
    "\n",
    "# Do not edit below\n",
    "\n",
    "# Get the input\n",
    "my_input = input()\n",
    "\n",
    "# Print output returned from the logic function\n",
    "print(logic(my_input))\n"
   ]
  }
 ],
 "metadata": {
  "kernelspec": {
   "display_name": "Python 3",
   "language": "python",
   "name": "python3"
  },
  "language_info": {
   "codemirror_mode": {
    "name": "ipython",
    "version": 3
   },
   "file_extension": ".py",
   "mimetype": "text/x-python",
   "name": "python",
   "nbconvert_exporter": "python",
   "pygments_lexer": "ipython3",
   "version": "3.8.5"
  }
 },
 "nbformat": 4,
 "nbformat_minor": 4
}
