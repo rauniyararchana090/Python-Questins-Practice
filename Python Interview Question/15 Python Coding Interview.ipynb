{
 "cells": [
  {
   "cell_type": "code",
   "execution_count": 19,
   "metadata": {},
   "outputs": [
    {
     "name": "stdout",
     "output_type": "stream",
     "text": [
      " 101   103   107   109   113   127   131   137   139   149   151   157   163   167   173   179   181   191   193   197   199  "
     ]
    }
   ],
   "source": [
    "#program to print prime number between 100 and 200\n",
    "for Number in range (100, 200):\n",
    "    count = 0\n",
    "    for i in range(2, Number):\n",
    "        if(Number % i == 0):\n",
    "            count = count + 1\n",
    "            break\n",
    "\n",
    "    if (count == 0 and Number != 1):\n",
    "        print(\" %d\" %Number, end = '  ')\n",
    "        \n",
    "        \n",
    "    "
   ]
  },
  {
   "cell_type": "code",
   "execution_count": 16,
   "metadata": {},
   "outputs": [
    {
     "name": "stdout",
     "output_type": "stream",
     "text": [
      "[8, 7, 5, 3, 2]\n"
     ]
    }
   ],
   "source": [
    "#write a sort function to sort the element in a list\n",
    "list1=[2,8,7,5,3]\n",
    "list1.sort(reverse=True)\n",
    "print(list1)\n"
   ]
  },
  {
   "cell_type": "code",
   "execution_count": 9,
   "metadata": {},
   "outputs": [
    {
     "name": "stdout",
     "output_type": "stream",
     "text": [
      "[9, 7, 3, 11, 28, 33, 54, 90, 78, 56, 22]\n"
     ]
    }
   ],
   "source": [
    "#write a sort function to sort the element in a list without using list function\n",
    "l1=[22,56,78,90,54,33,28,11,3,7,9]\n",
    "l2=[]\n",
    "while l1:\n",
    "    first_ele=l1[0]\n",
    "    for x in l1:\n",
    "        if x > first_ele:\n",
    "            first_ele=x\n",
    "    l2.append(x)\n",
    "    l1.remove(x)\n",
    "print(l2)            "
   ]
  },
  {
   "cell_type": "code",
   "execution_count": 6,
   "metadata": {},
   "outputs": [
    {
     "name": "stdout",
     "output_type": "stream",
     "text": [
      "-5\n",
      "-5\n",
      "-23\n",
      "-5\n",
      "-23\n",
      "----------\n",
      "5\n",
      "-23\n",
      "0\n",
      "-23\n",
      "23\n",
      "-23\n",
      "-6\n",
      "-23\n",
      "23\n",
      "-23\n",
      "67\n",
      "-23\n",
      "-5\n",
      "-5\n",
      "5\n",
      "-5\n",
      "0\n",
      "-5\n",
      "23\n",
      "-5\n",
      "-6\n",
      "-5\n",
      "-6\n",
      "----------\n",
      "23\n",
      "-6\n",
      "67\n",
      "-6\n",
      "-5\n",
      "-5\n",
      "5\n",
      "-5\n",
      "0\n",
      "-5\n",
      "23\n",
      "-5\n",
      "23\n",
      "-5\n",
      "67\n",
      "-5\n",
      "5\n",
      "5\n",
      "0\n",
      "5\n",
      "0\n",
      "----------\n",
      "23\n",
      "0\n",
      "23\n",
      "0\n",
      "67\n",
      "0\n",
      "5\n",
      "5\n",
      "23\n",
      "5\n",
      "23\n",
      "5\n",
      "67\n",
      "5\n",
      "23\n",
      "23\n",
      "23\n",
      "23\n",
      "67\n",
      "23\n",
      "23\n",
      "23\n",
      "67\n",
      "23\n",
      "67\n",
      "67\n",
      "[-23, -6, -5, 0, 5, 23, 23, 67]\n"
     ]
    }
   ],
   "source": [
    "data_list = [-5, -23, 5, 0, 23, -6, 23, 67]\n",
    "new_list = []\n",
    "\n",
    "while data_list:\n",
    "    minimum = data_list[0]  # arbitrary number in list \n",
    "    for x in data_list: \n",
    "        print(x)\n",
    "        print(minimum)\n",
    "        if x < minimum:\n",
    "            minimum = x\n",
    "            print(minimum)\n",
    "            print(\"----------\")\n",
    "    new_list.append(minimum)\n",
    "    data_list.remove(minimum)    \n",
    "\n",
    "print(new_list)"
   ]
  },
  {
   "cell_type": "code",
   "execution_count": 14,
   "metadata": {},
   "outputs": [
    {
     "name": "stdout",
     "output_type": "stream",
     "text": [
      "Enter a number:11\n",
      "1\n",
      "2\n",
      "3\n",
      "5\n",
      "8\n",
      "13\n",
      "21\n",
      "34\n",
      "55\n",
      "89\n",
      "144\n"
     ]
    }
   ],
   "source": [
    "#write a python programs to print fibonaccies\n",
    "n=int(input(\"Enter a number:\"))\n",
    "x=0\n",
    "y=1\n",
    "while(n>0):\n",
    "    z=x+y\n",
    "    print(z)\n",
    "    x=y\n",
    "    y=z\n",
    "    n-=1\n",
    "    "
   ]
  },
  {
   "cell_type": "code",
   "execution_count": 8,
   "metadata": {},
   "outputs": [
    {
     "name": "stdout",
     "output_type": "stream",
     "text": [
      "2\n",
      "3\n",
      "4\n",
      "5\n",
      "6\n",
      "7\n",
      "8\n",
      "9\n"
     ]
    }
   ],
   "source": [
    "for i in range(2,10):\n",
    "    print(i)"
   ]
  },
  {
   "cell_type": "code",
   "execution_count": 11,
   "metadata": {},
   "outputs": [
    {
     "name": "stdout",
     "output_type": "stream",
     "text": [
      "[9, 7, 3, 11, 28, 33, 54, 90, 78, 56, 22]\n"
     ]
    }
   ],
   "source": [
    "#write a program to print list in reverse order\n",
    "l1=[22,56,78,90,54,33,28,11,3,7,9]\n",
    "l2=l1[::-1]\n",
    "print(l2)"
   ]
  },
  {
   "cell_type": "code",
   "execution_count": 18,
   "metadata": {},
   "outputs": [
    {
     "name": "stdout",
     "output_type": "stream",
     "text": [
      "Enter a word:aba\n"
     ]
    },
    {
     "data": {
      "text/plain": [
       "True"
      ]
     },
     "execution_count": 18,
     "metadata": {},
     "output_type": "execute_result"
    }
   ],
   "source": [
    "#check whether word i palindrome or note\n",
    "def test6(n):\n",
    "    rev_word=n[::-1]\n",
    "    if rev_word==n:\n",
    "        return True\n",
    "    else:\n",
    "         return False\n",
    "n=input(\"Enter a word:\")\n",
    "test6(n)"
   ]
  },
  {
   "cell_type": "code",
   "execution_count": 19,
   "metadata": {},
   "outputs": [
    {
     "name": "stdout",
     "output_type": "stream",
     "text": [
      "[3, 2, 9]\n"
     ]
    }
   ],
   "source": [
    "#write a program to print set of duplicates in a list\n",
    "l1=[3,6,4,3,9,2,1,2,9]\n",
    "count=0\n",
    "l2=[]\n",
    "l3=[]\n",
    "for x in l1:\n",
    "    if x not in l2:\n",
    "        l2.append(x)\n",
    "    else:\n",
    "        l3.append(x)\n",
    "print(l3)        \n",
    "        \n",
    "    \n",
    "    "
   ]
  },
  {
   "cell_type": "code",
   "execution_count": 26,
   "metadata": {},
   "outputs": [
    {
     "name": "stdout",
     "output_type": "stream",
     "text": [
      "Enter a word:Hello World\n"
     ]
    },
    {
     "data": {
      "text/plain": [
       "2"
      ]
     },
     "execution_count": 26,
     "metadata": {},
     "output_type": "execute_result"
    }
   ],
   "source": [
    "#write a program to print a number of word in sentences\n",
    "def task7(n):\n",
    "    num_word=len(n.split())\n",
    "    return num_word\n",
    "word=input(\"Enter a word:\")\n",
    "task7(word)"
   ]
  },
  {
   "cell_type": "code",
   "execution_count": 28,
   "metadata": {},
   "outputs": [
    {
     "name": "stdout",
     "output_type": "stream",
     "text": [
      "Not Present element\n"
     ]
    },
    {
     "data": {
      "text/plain": [
       "False"
      ]
     },
     "execution_count": 28,
     "metadata": {},
     "output_type": "execute_result"
    }
   ],
   "source": [
    "#given and arr[] of n element,\n",
    "def task8(array,n):\n",
    "    for i in array:\n",
    "        if i ==n:\n",
    "            print(\"Present element\")\n",
    "            return True\n",
    "        else:\n",
    "            print(\"Not Present element\")\n",
    "            return False\n",
    "            \n",
    "\n",
    "arr=[2,4,5,6,3,7,9]\n",
    "task8(arr,10)"
   ]
  },
  {
   "cell_type": "code",
   "execution_count": 29,
   "metadata": {},
   "outputs": [],
   "source": [
    "#write a program to implement a Binary search"
   ]
  },
  {
   "cell_type": "code",
   "execution_count": 32,
   "metadata": {},
   "outputs": [
    {
     "name": "stdout",
     "output_type": "stream",
     "text": [
      "HelloWorld\n"
     ]
    }
   ],
   "source": [
    "#write a program to join to string uing join function\n",
    "str1=\"Hello\"\n",
    "str2=\"World\"\n",
    "result=\"\".join((str1,str2))\n",
    "print(result)"
   ]
  },
  {
   "cell_type": "code",
   "execution_count": 43,
   "metadata": {},
   "outputs": [
    {
     "name": "stdout",
     "output_type": "stream",
     "text": [
      "Enter a word: he1l2ll5o\n",
      "['1', '2', '5']\n"
     ]
    }
   ],
   "source": [
    "#write a program to extract a digit from given string\n",
    "def task13(n):\n",
    "    l1=[]\n",
    "    for i in n:\n",
    "        if i.isdigit():\n",
    "            l1.append(i)\n",
    "    print(l1)    \n",
    "\n",
    "    \n",
    "    \n",
    "word=input(\"Enter a word: \")\n",
    "task13(word)"
   ]
  },
  {
   "cell_type": "code",
   "execution_count": null,
   "metadata": {},
   "outputs": [],
   "source": [
    "#write a program to split string using newline delimiter"
   ]
  },
  {
   "cell_type": "code",
   "execution_count": 48,
   "metadata": {},
   "outputs": [
    {
     "name": "stdout",
     "output_type": "stream",
     "text": [
      "Enter a string: aabbccc\n"
     ]
    },
    {
     "data": {
      "text/plain": [
       "['a', 'b', 'c']"
      ]
     },
     "execution_count": 48,
     "metadata": {},
     "output_type": "execute_result"
    }
   ],
   "source": [
    "#write a program to given a string as input,delete any reoccuring character, and return the new\n",
    "def task15(n):\n",
    "    l1=[]\n",
    "    for i in n:\n",
    "        if i not in l1:\n",
    "            l1.append(i)\n",
    "        \n",
    "    return l1\n",
    "        \n",
    "    \n",
    "\n",
    "word=input(\"Enter a string: \")\n",
    "task15(word)"
   ]
  },
  {
   "cell_type": "code",
   "execution_count": 49,
   "metadata": {},
   "outputs": [
    {
     "name": "stdout",
     "output_type": "stream",
     "text": [
      "Enter a string: aabbbscc\n"
     ]
    },
    {
     "data": {
      "text/plain": [
       "{'a', 'b', 'c', 's'}"
      ]
     },
     "execution_count": 49,
     "metadata": {},
     "output_type": "execute_result"
    }
   ],
   "source": [
    "def task15(n):\n",
    "    word=set()\n",
    "    for i in n:\n",
    "        if i not in word:\n",
    "            word.add(i)\n",
    "        \n",
    "    return word\n",
    "        \n",
    "    \n",
    "\n",
    "word=input(\"Enter a string: \")\n",
    "task15(word)"
   ]
  },
  {
   "cell_type": "code",
   "execution_count": null,
   "metadata": {},
   "outputs": [],
   "source": []
  }
 ],
 "metadata": {
  "kernelspec": {
   "display_name": "Python 3",
   "language": "python",
   "name": "python3"
  },
  "language_info": {
   "codemirror_mode": {
    "name": "ipython",
    "version": 3
   },
   "file_extension": ".py",
   "mimetype": "text/x-python",
   "name": "python",
   "nbconvert_exporter": "python",
   "pygments_lexer": "ipython3",
   "version": "3.8.5"
  }
 },
 "nbformat": 4,
 "nbformat_minor": 4
}
