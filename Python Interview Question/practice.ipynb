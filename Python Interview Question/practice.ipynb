{
 "cells": [
  {
   "cell_type": "code",
   "execution_count": 13,
   "metadata": {},
   "outputs": [
    {
     "name": "stdout",
     "output_type": "stream",
     "text": [
      "Enter a word that u want to double:Martin\n",
      "MM\n",
      "aa\n",
      "rr\n",
      "tt\n",
      "ii\n",
      "nn\n"
     ]
    },
    {
     "data": {
      "text/plain": [
       "['nn']"
      ]
     },
     "execution_count": 13,
     "metadata": {},
     "output_type": "execute_result"
    }
   ],
   "source": [
    "'''\n",
    "create a function which accepts string,\n",
    "the function should return a string\n",
    "with each character in the original string doubled\n",
    "e.g. Martin--> Mmaarrttiinn\n",
    "'''\n",
    "def double_string(word):\n",
    "    for i in word:\n",
    "        double=[]\n",
    "        i =i+i\n",
    "        print(i)\n",
    "        double.append(i)\n",
    "    return double\n",
    "word=input(\"Enter a word that u want to double:\")\n",
    "double_string(word)\n",
    "    "
   ]
  },
  {
   "cell_type": "code",
   "execution_count": 15,
   "metadata": {},
   "outputs": [
    {
     "name": "stdout",
     "output_type": "stream",
     "text": [
      "sun mon tue wed thu fri sat\n"
     ]
    }
   ],
   "source": [
    "#converting list into string\n",
    "weekdays = ['sun','mon','tue','wed','thu','fri','sat']\n",
    "stringList = ' '.join(weekdays)\n",
    "print(stringList)\n"
   ]
  },
  {
   "cell_type": "code",
   "execution_count": 6,
   "metadata": {},
   "outputs": [
    {
     "name": "stdout",
     "output_type": "stream",
     "text": [
      "<generator object yieldeg at 0x000001F30B3FC120>\n",
      "variable i 0\n",
      "variable i 1\n",
      "variable i 2\n",
      "[0, 1, 2]\n"
     ]
    }
   ],
   "source": [
    "#examples of yield\n",
    "def yieldeg(num):\n",
    "    for i in range(num):\n",
    "        print(\"variable i\",i)\n",
    "        yield i\n",
    "print(yieldeg(3)) \n",
    "print(list(yieldeg(3)))"
   ]
  },
  {
   "cell_type": "code",
   "execution_count": 8,
   "metadata": {},
   "outputs": [
    {
     "name": "stdout",
     "output_type": "stream",
     "text": [
      "variable i 0\n",
      "0\n"
     ]
    }
   ],
   "source": [
    "#examples of yield\n",
    "def yieldeg(num):\n",
    "    for i in range(num):\n",
    "        print(\"variable i\",i)\n",
    "        return i  #iteration stop incase of return\n",
    "print(yieldeg(3)) \n",
    "#print(list(yieldeg(3)))"
   ]
  },
  {
   "cell_type": "code",
   "execution_count": null,
   "metadata": {},
   "outputs": [],
   "source": []
  }
 ],
 "metadata": {
  "kernelspec": {
   "display_name": "Python 3",
   "language": "python",
   "name": "python3"
  },
  "language_info": {
   "codemirror_mode": {
    "name": "ipython",
    "version": 3
   },
   "file_extension": ".py",
   "mimetype": "text/x-python",
   "name": "python",
   "nbconvert_exporter": "python",
   "pygments_lexer": "ipython3",
   "version": "3.8.5"
  }
 },
 "nbformat": 4,
 "nbformat_minor": 4
}
